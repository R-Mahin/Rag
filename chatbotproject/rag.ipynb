{
 "cells": [
  {
   "cell_type": "markdown",
   "id": "8d0f3ec7",
   "metadata": {},
   "source": [
    "Load the pdf"
   ]
  },
  {
   "cell_type": "code",
   "execution_count": 82,
   "id": "2f6825cd",
   "metadata": {},
   "outputs": [],
   "source": [
    "from langchain_community.document_loaders import PyPDFLoader\n",
    "loader = PyPDFLoader(r\"D:\\The Silent Patient.pdf\")\n",
    "pdf = loader.load()"
   ]
  },
  {
   "cell_type": "code",
   "execution_count": 83,
   "id": "62999058",
   "metadata": {},
   "outputs": [
    {
     "data": {
      "text/plain": [
       "787"
      ]
     },
     "execution_count": 83,
     "metadata": {},
     "output_type": "execute_result"
    }
   ],
   "source": [
    "len(pdf)"
   ]
  },
  {
   "cell_type": "code",
   "execution_count": 84,
   "id": "bd61adae",
   "metadata": {},
   "outputs": [],
   "source": [
    "texts = \" \".join(i.page_content for i in pdf)"
   ]
  },
  {
   "cell_type": "code",
   "execution_count": 85,
   "id": "21866663",
   "metadata": {},
   "outputs": [
    {
     "data": {
      "text/plain": [
       "1404407"
      ]
     },
     "execution_count": 85,
     "metadata": {},
     "output_type": "execute_result"
    }
   ],
   "source": [
    "len(texts)"
   ]
  },
  {
   "cell_type": "markdown",
   "id": "1dee4c04",
   "metadata": {},
   "source": [
    "Divide into chunks"
   ]
  },
  {
   "cell_type": "code",
   "execution_count": 86,
   "id": "e9780dc9",
   "metadata": {},
   "outputs": [],
   "source": [
    "from langchain_text_splitters import RecursiveCharacterTextSplitter\n",
    "text_splitter = RecursiveCharacterTextSplitter(chunk_size = 2000, chunk_overlap = 200)\n",
    "cnks = text_splitter.create_documents([texts])"
   ]
  },
  {
   "cell_type": "code",
   "execution_count": 87,
   "id": "1b9c1e7f",
   "metadata": {},
   "outputs": [
    {
     "data": {
      "text/plain": [
       "783"
      ]
     },
     "execution_count": 87,
     "metadata": {},
     "output_type": "execute_result"
    }
   ],
   "source": [
    "len(cnks)"
   ]
  },
  {
   "cell_type": "code",
   "execution_count": 88,
   "id": "88f5e3ba",
   "metadata": {},
   "outputs": [
    {
     "data": {
      "text/plain": [
       "1940"
      ]
     },
     "execution_count": 88,
     "metadata": {},
     "output_type": "execute_result"
    }
   ],
   "source": [
    "len(cnks[5].page_content)"
   ]
  },
  {
   "cell_type": "code",
   "execution_count": 89,
   "id": "7464a836",
   "metadata": {},
   "outputs": [],
   "source": [
    "from langchain_community.embeddings import HuggingFaceEmbeddings\n",
    "from langchain.vectorstores import Chroma\n",
    "\n",
    "emb_model = HuggingFaceEmbeddings(\n",
    "    model_name=\"sentence-transformers/all-MiniLM-L6-v2\" \n",
    ")\n",
    "\n",
    "vector_space = Chroma.from_documents(\n",
    "    documents= cnks,\n",
    "    embedding=emb_model,\n",
    "    persist_directory=\"vect_space\"\n",
    ")\n",
    "\n",
    "vector_space.persist()"
   ]
  },
  {
   "cell_type": "code",
   "execution_count": 90,
   "id": "7c147fad",
   "metadata": {},
   "outputs": [
    {
     "data": {
      "text/plain": [
       "9928"
      ]
     },
     "execution_count": 90,
     "metadata": {},
     "output_type": "execute_result"
    }
   ],
   "source": [
    "len(vector_space.get()[\"documents\"][5])"
   ]
  },
  {
   "cell_type": "code",
   "execution_count": 91,
   "id": "a8a083b4",
   "metadata": {},
   "outputs": [],
   "source": [
    "retriever = vector_space.as_retriever(\n",
    "        search_type=\"similarity\",\n",
    "        search_kwargs={'k': 4}\n",
    "    )"
   ]
  },
  {
   "cell_type": "code",
   "execution_count": 92,
   "id": "e331f74e",
   "metadata": {},
   "outputs": [
    {
     "data": {
      "text/plain": [
       "[Document(metadata={}, page_content='She told the story of a doctor who had the Pﬁzer jab and when\\nquestioned had no idea what was in it. The doctor had never read\\nthe literature. We have to stop treating doctors as intellectual giants\\nwhen so many are moral and medical pygmies. The doctor did not\\neven know that the ‘vaccines’ were not fully approved or that their\\ntrials were ongoing. They were, however, asking their patients if\\nthey minded taking part in follow-ups for research purposes – yes,\\nthe ongoing clinical trial. The nurse said the doctor’s ignorance was\\nnot rare and she had spoken to a hospital consultant who had the jab\\nwithout any idea of the background or that the ‘trials’ had not been\\ncompleted. Nurses and pharmacists had shown the same ignorance. ‘My NHS colleagues have forsaken their duty of care, broken their\\ncode of conduct – Hippocratic Oath – and have been brainwashed\\njust the same as the majority of the UK public through propaganda\\n…’ She said she had not been able to recruit a single NHS colleague,\\ndoctor, nurse or pharmacist to stand with her and speak out. Her\\nunion had refused to help. She said that if the genocide came to light\\nshe would not hesitate to give evidence at a Nuremberg-type trial\\nagainst those in power who could have aﬀected the outcomes but\\ndidn’t.\\nAnd all for what?\\nTo put the nonsense into perspective let’s say the ‘virus’ does exist\\nand let’s go completely crazy and accept that the oﬃcial\\nmanipulated ﬁgures for cases and deaths are accurate. Even then a\\nstudy by Stanford University epidemiologist Dr John Ioannidis\\npublished on the World Health Organization website produced an\\naverage infection to fatality rate of … 0.23 percent! Ioannidis said: ‘If\\none could sample equally from all locations globally, the median\\ninfection fatality rate might even be substantially lower than the\\n0.23% observed in my analysis.’ For healthy people under 70 it was\\n… 0.05 percent! This compares with the 3.4 percent claimed by the'),\n",
       " Document(metadata={}, page_content='She told the story of a doctor who had the Pﬁzer jab and when\\nquestioned had no idea what was in it. The doctor had never read\\nthe literature. We have to stop treating doctors as intellectual giants\\nwhen so many are moral and medical pygmies. The doctor did not\\neven know that the ‘vaccines’ were not fully approved or that their\\ntrials were ongoing. They were, however, asking their patients if\\nthey minded taking part in follow-ups for research purposes – yes,\\nthe ongoing clinical trial. The nurse said the doctor’s ignorance was\\nnot rare and she had spoken to a hospital consultant who had the jab\\nwithout any idea of the background or that the ‘trials’ had not been\\ncompleted. Nurses and pharmacists had shown the same ignorance. ‘My NHS colleagues have forsaken their duty of care, broken their\\ncode of conduct – Hippocratic Oath – and have been brainwashed\\njust the same as the majority of the UK public through propaganda\\n…’ She said she had not been able to recruit a single NHS colleague,\\ndoctor, nurse or pharmacist to stand with her and speak out. Her\\nunion had refused to help. She said that if the genocide came to light\\nshe would not hesitate to give evidence at a Nuremberg-type trial\\nagainst those in power who could have aﬀected the outcomes but\\ndidn’t.\\nAnd all for what?\\nTo put the nonsense into perspective let’s say the ‘virus’ does exist\\nand let’s go completely crazy and accept that the oﬃcial\\nmanipulated ﬁgures for cases and deaths are accurate. Even then a\\nstudy by Stanford University epidemiologist Dr John Ioannidis\\npublished on the World Health Organization website produced an\\naverage infection to fatality rate of … 0.23 percent! Ioannidis said: ‘If\\none could sample equally from all locations globally, the median\\ninfection fatality rate might even be substantially lower than the\\n0.23% observed in my analysis.’ For healthy people under 70 it was\\n… 0.05 percent! This compares with the 3.4 percent claimed by the'),\n",
       " Document(metadata={}, page_content='hopeless. Christian had been right to point out that rats desert sinking ships.\\nWhat the hell was I doing clambering upon this wreck, lashing myself to\\nthe mast, preparing to drown?\\nThe answer was sitting in front of me. As Diomedes put it, Alicia was a\\nsilent siren, luring me to my doom.\\nI felt a sudden desperation. I wanted to scream at her, Say something.\\nAnything. Just talk.\\nBut I didn’t say that. Instead, I broke with therapeutic tradition. I stopped\\ntreading softly and got directly to the point: “I’d like to talk about your silence. About what it means … what it feels\\nlike. And specifically why you stopped talking.”\\nAlicia didn’t look at me. Was she even listening?\\n“As I sit here with you, a picture keeps coming into my mind—an image\\nof someone biting their fist, holding back a yell, swallowing a scream. I\\nremember when I first started therapy, I found it very hard to cry. I feared\\nI’d be carried away by the flood, overwhelmed. Perhaps that’s what it feels\\nlike for you. That’s why it’s important to take your time to feel safe and\\ntrust that you won’t be alone in this flood—that I’m treading water here\\nwith you.”\\nSilence.\\n“I think of myself as a relational therapist. Do you know what that\\nmeans?”\\nSilence.\\n“It means I think Freud was wrong about a couple of things. I don’t\\nbelieve a therapist can ever really be a blank slate, as he intended. We leak\\nall kinds of information about ourselves unintentionally—by the color of\\nmy socks, or how I sit or the way I talk. Just by sitting here with you, I\\nreveal a great deal about myself. Despite my best efforts at invisibility, I’m\\nshowing you who I am.”\\nAlicia looked up. She stared at me, her chin slightly tilted—was there a\\nchallenge in that look? At last I had her attention. I shifted in my seat.\\n“The point is, what can we do about this? We can ignore it and deny it\\nand pretend this therapy is all about you. Or we can acknowledge that this is\\na two-way street and work with that. And then we can really start to get'),\n",
       " Document(metadata={}, page_content='hopeless. Christian had been right to point out that rats desert sinking ships.\\nWhat the hell was I doing clambering upon this wreck, lashing myself to\\nthe mast, preparing to drown?\\nThe answer was sitting in front of me. As Diomedes put it, Alicia was a\\nsilent siren, luring me to my doom.\\nI felt a sudden desperation. I wanted to scream at her, Say something.\\nAnything. Just talk.\\nBut I didn’t say that. Instead, I broke with therapeutic tradition. I stopped\\ntreading softly and got directly to the point: “I’d like to talk about your silence. About what it means … what it feels\\nlike. And specifically why you stopped talking.”\\nAlicia didn’t look at me. Was she even listening?\\n“As I sit here with you, a picture keeps coming into my mind—an image\\nof someone biting their fist, holding back a yell, swallowing a scream. I\\nremember when I first started therapy, I found it very hard to cry. I feared\\nI’d be carried away by the flood, overwhelmed. Perhaps that’s what it feels\\nlike for you. That’s why it’s important to take your time to feel safe and\\ntrust that you won’t be alone in this flood—that I’m treading water here\\nwith you.”\\nSilence.\\n“I think of myself as a relational therapist. Do you know what that\\nmeans?”\\nSilence.\\n“It means I think Freud was wrong about a couple of things. I don’t\\nbelieve a therapist can ever really be a blank slate, as he intended. We leak\\nall kinds of information about ourselves unintentionally—by the color of\\nmy socks, or how I sit or the way I talk. Just by sitting here with you, I\\nreveal a great deal about myself. Despite my best efforts at invisibility, I’m\\nshowing you who I am.”\\nAlicia looked up. She stared at me, her chin slightly tilted—was there a\\nchallenge in that look? At last I had her attention. I shifted in my seat.\\n“The point is, what can we do about this? We can ignore it and deny it\\nand pretend this therapy is all about you. Or we can acknowledge that this is\\na two-way street and work with that. And then we can really start to get')]"
      ]
     },
     "execution_count": 92,
     "metadata": {},
     "output_type": "execute_result"
    }
   ],
   "source": [
    "retriever.invoke(\"who is the author of the book a silent patient\")"
   ]
  },
  {
   "cell_type": "code",
   "execution_count": 93,
   "id": "bb5f578e",
   "metadata": {},
   "outputs": [],
   "source": [
    "import os\n",
    "from dotenv import load_dotenv\n",
    "load_dotenv()\n",
    "from langchain.chat_models import init_chat_model"
   ]
  },
  {
   "cell_type": "code",
   "execution_count": 94,
   "id": "50d6c7f2",
   "metadata": {},
   "outputs": [],
   "source": [
    "os.environ.get(\"GROQ_API_KEY\")\n",
    "model = init_chat_model(\"groq:llama-3.1-8b-instant\")"
   ]
  },
  {
   "cell_type": "code",
   "execution_count": 95,
   "id": "20692823",
   "metadata": {},
   "outputs": [],
   "source": [
    "from langchain.prompts import PromptTemplate"
   ]
  },
  {
   "cell_type": "code",
   "execution_count": 96,
   "id": "070ceaa7",
   "metadata": {},
   "outputs": [],
   "source": [
    "prompt = PromptTemplate(\n",
    "    template = \"\"\"\n",
    "            You are a helpfull ai assistent. answer according to the provided context. if the context is insufficient, just say you dont know.\n",
    "\n",
    "            context = {context},\n",
    "            \\n\\n\n",
    "            question = {question}\n",
    "\n",
    "\"\"\",\n",
    "    input_variables=[\"context\",\"question\"]  \n",
    ")"
   ]
  },
  {
   "cell_type": "code",
   "execution_count": 97,
   "id": "625eb279",
   "metadata": {},
   "outputs": [],
   "source": [
    "question = \"tell me about the characteristics of the patient mentioned in this book\"\n",
    "retrieved_dict = retriever.invoke(question)\n",
    "retrieved_context = \" \".join(i.page_content for i in retrieved_dict)"
   ]
  },
  {
   "cell_type": "code",
   "execution_count": 98,
   "id": "a09c8901",
   "metadata": {},
   "outputs": [
    {
     "data": {
      "text/plain": [
       "7857"
      ]
     },
     "execution_count": 98,
     "metadata": {},
     "output_type": "execute_result"
    }
   ],
   "source": [
    "len(retrieved_context)"
   ]
  },
  {
   "cell_type": "code",
   "execution_count": 99,
   "id": "41733666",
   "metadata": {},
   "outputs": [],
   "source": [
    "main_prompt = prompt.invoke({\"context\": retrieved_context, \"question\": question})"
   ]
  },
  {
   "cell_type": "code",
   "execution_count": 100,
   "id": "f3464e19",
   "metadata": {},
   "outputs": [],
   "source": [
    "resp = model.invoke(main_prompt)"
   ]
  },
  {
   "cell_type": "code",
   "execution_count": 101,
   "id": "4b461299",
   "metadata": {},
   "outputs": [
    {
     "name": "stdout",
     "output_type": "stream",
     "text": [
      "content=\"Based on the provided context, the patient mentioned is Alicia Berenson. Here are some characteristics deduced from the information:\\n\\n1. **Self-harming behavior**: Alicia has a history of slashing her wrists twice and engaging in self-harm with various objects upon admission.\\n2. **Aggressive behavior**: Alicia became violent in the canteen, smashing a plate and attempting to slash Elif's throat with a jagged edge.\\n3. **Withdrawn and isolated**: Alicia made no effort to interact with patients or staff, remaining withdrawn and isolated. She quickly became invisible to the other patients.\\n4. **Violent outburst**: Alicia's confrontation with Elif in the canteen escalated rapidly, requiring restraint, sedation, and placement in isolation.\\n5. **Lack of communication**: Alicia didn't respond to attempts at conversation and never initiated any interactions with her peers or staff.\\n\\nThese characteristics suggest that Alicia may be struggling with severe mental health issues, such as borderline personality disorder, post-traumatic stress disorder (PTSD), or another condition that leads to impulsive and aggressive behavior. However, without more information, it's difficult to make a definitive diagnosis.\" additional_kwargs={} response_metadata={'token_usage': {'completion_tokens': 236, 'prompt_tokens': 1980, 'total_tokens': 2216, 'completion_time': 0.325437439, 'prompt_time': 0.30247481, 'queue_time': 0.692641912, 'total_time': 0.627912249}, 'model_name': 'llama-3.1-8b-instant', 'system_fingerprint': 'fp_510c177af0', 'service_tier': 'on_demand', 'finish_reason': 'stop', 'logprobs': None} id='run--8c0d053e-55d5-45bc-8191-0126b9f35fef-0' usage_metadata={'input_tokens': 1980, 'output_tokens': 236, 'total_tokens': 2216}\n"
     ]
    }
   ],
   "source": [
    "print(resp)"
   ]
  }
 ],
 "metadata": {
  "kernelspec": {
   "display_name": "Langchain_projects (3.13.5)",
   "language": "python",
   "name": "python3"
  },
  "language_info": {
   "codemirror_mode": {
    "name": "ipython",
    "version": 3
   },
   "file_extension": ".py",
   "mimetype": "text/x-python",
   "name": "python",
   "nbconvert_exporter": "python",
   "pygments_lexer": "ipython3",
   "version": "3.13.5"
  }
 },
 "nbformat": 4,
 "nbformat_minor": 5
}
